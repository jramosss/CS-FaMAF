{
 "cells": [
  {
   "cell_type": "code",
   "execution_count": 13,
   "source": [
    "from pprint import pprint\n",
    "import matplotlib.pyplot as plt\n",
    "from math import sqrt\n",
    "\n",
    "class Calc:\n",
    "    def __init__(self) -> None:\n",
    "        pass\n",
    "\n",
    "    def fa (self,st : str):\n",
    "        categories = {}\n",
    "        for c in st:\n",
    "            try:\n",
    "                categories[c] += 1\n",
    "            except:\n",
    "                categories[c] = 1\n",
    "\n",
    "        return categories\n",
    "\n",
    "\n",
    "    def fr (self,fa,N):\n",
    "        fr = {}\n",
    "\n",
    "        for c in fa.keys():\n",
    "            fr[c] = fa[c] / N * 100\n",
    "\n",
    "        return fr\n",
    "\n",
    "\n",
    "    def is_valid (self,fr):\n",
    "        count = 0\n",
    "        for f in fr.values():\n",
    "            count += f\n",
    "\n",
    "        return count == 100\n",
    "\n",
    "    def average (self,li):\n",
    "        return sum(li) / len(li)\n",
    "\n",
    "\n",
    "    def dispersion (self,li):\n",
    "        n = len(li)\n",
    "        x = self.average(li)\n",
    "        ss = 0\n",
    "        for l in li:\n",
    "            ss += pow((l - x),2)\n",
    "        ss /= n\n",
    "\n",
    "        return sqrt(ss)\n",
    "\n",
    "\n",
    "def main ():\n",
    "    st = \"OOJOJOFOFONFJJFJOJONTOFOFNNBBOONBNBTFJMOOFOOJJJOOBMMOOOBMTBF\"\n",
    "    N = len(st)\n",
    "    calc = Calc()\n",
    "    fa = calc.fa(st)\n",
    "    print(\"FA: \")\n",
    "    pprint(fa)\n",
    "    fr = calc.fr(fa,N)\n",
    "    print(\"FR:\")\n",
    "    pprint(fr)\n",
    "    print(\"Is valid\") if calc.is_valid(fr) else print(\"Is not valid\")\n",
    "\n",
    "    plt.bar(fr.keys(),fr.values())\n",
    "    plt.xlabel(\"Poblation\")\n",
    "    plt.ylabel(\"FR\")\n",
    "    print(calc.dispersion([3,3,3,2,2,2,2,2,1,0]))\n",
    "    print(calc.average([3,3,3,2,2,2,2,2,1,0]))\n",
    "\n",
    "if __name__ == '__main__':\n",
    "    main()\n"
   ],
   "outputs": [
    {
     "output_type": "stream",
     "name": "stdout",
     "text": [
      "FA: \n",
      "{'B': 7, 'F': 9, 'J': 10, 'M': 4, 'N': 6, 'O': 21, 'T': 3}\n",
      "FR:\n",
      "{'B': 11.666666666666666,\n",
      " 'F': 15.0,\n",
      " 'J': 16.666666666666664,\n",
      " 'M': 6.666666666666667,\n",
      " 'N': 10.0,\n",
      " 'O': 35.0,\n",
      " 'T': 5.0}\n",
      "Is valid\n",
      "0.8944271909999159\n"
     ]
    },
    {
     "output_type": "display_data",
     "data": {
      "text/plain": [
       "<Figure size 432x288 with 1 Axes>"
      ],
      "image/png": "[encoded data removed]"
     },
     "metadata": {
      "needs_background": "light"
     }
    }
   ],
   "metadata": {}
  },
  {
   "cell_type": "code",
   "execution_count": null,
   "source": [],
   "outputs": [],
   "metadata": {}
  }
 ],
 "metadata": {
  "interpreter": {
   "hash": "3d352765dc9f623d3c27b28826154acdf0f8b4cb57c3068f2fdcce027c3b8618"
  },
  "kernelspec": {
   "display_name": "Python 3",
   "language": "python",
   "name": "python3"
  },
  "language_info": {
   "codemirror_mode": {
    "name": "ipython",
    "version": 3
   },
   "file_extension": ".py",
   "mimetype": "text/x-python",
   "name": "python",
   "nbconvert_exporter": "python",
   "pygments_lexer": "ipython3",
   "version": "3.8.10"
  }
 },
 "nbformat": 4,
 "nbformat_minor": 4
}