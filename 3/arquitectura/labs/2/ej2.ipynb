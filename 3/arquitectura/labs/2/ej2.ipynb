{
  "cells": [
    {
      "cell_type": "code",
      "execution_count": 3,
      "metadata": {
        "id": "W2HBsCyfNpvY"
      },
      "outputs": [
        {
          "name": "stdout",
          "output_type": "stream",
          "text": [
            "Requirement already satisfied: pyopencl in /home/shuls/Documents/weas/proyectos/carrera/.venv/lib/python3.8/site-packages (2021.2.9)\n",
            "Requirement already satisfied: numpy in /home/shuls/Documents/weas/proyectos/carrera/.venv/lib/python3.8/site-packages (from pyopencl) (1.21.3)\n",
            "Requirement already satisfied: pytools>=2021.2.7 in /home/shuls/Documents/weas/proyectos/carrera/.venv/lib/python3.8/site-packages (from pyopencl) (2021.2.9)\n",
            "Requirement already satisfied: appdirs>=1.4.0 in /home/shuls/Documents/weas/proyectos/carrera/.venv/lib/python3.8/site-packages (from pyopencl) (1.4.4)\n",
            "\u001b[33mWARNING: You are using pip version 20.1.1; however, version 21.3.1 is available.\n",
            "You should consider upgrading via the '/home/shuls/Documents/weas/proyectos/carrera/.venv/bin/python -m pip install --upgrade pip' command.\u001b[0m\n"
          ]
        }
      ],
      "source": [
        "import pyopencl as cl\n",
        "import pyopencl.array as cl_array\n",
        "import numpy as np"
      ]
    },
    {
      "cell_type": "markdown",
      "metadata": {
        "id": "ivsh2kTJOqC5"
      },
      "source": [
        "# Input"
      ]
    },
    {
      "cell_type": "code",
      "execution_count": 4,
      "metadata": {
        "id": "BJzetZIOOJva"
      },
      "outputs": [],
      "source": [
        "N = 20 \n",
        "k = 50 \n",
        "T_amb = 25.0\n",
        "fuente_de_calor = [[0,0, 50], [5,5, 100]]\n"
      ]
    },
    {
      "cell_type": "markdown",
      "metadata": {
        "id": "_L19ReiwOn-V"
      },
      "source": [
        "# Output"
      ]
    },
    {
      "cell_type": "code",
      "execution_count": null,
      "metadata": {
        "id": "1T1JTF0wOnoi"
      },
      "outputs": [],
      "source": []
    }
  ],
  "metadata": {
    "colab": {
      "collapsed_sections": [],
      "name": "Ejercicio2.ipynb",
      "provenance": []
    },
    "interpreter": {
      "hash": "eb3fc94aa1c0c8b6823bedf9890fa0600518a150e3f4f8d5ed34538b6bc0640c"
    },
    "kernelspec": {
      "display_name": "Python 3.8.5 64-bit ('.venv': venv)",
      "name": "python3"
    },
    "language_info": {
      "codemirror_mode": {
        "name": "ipython",
        "version": 3
      },
      "file_extension": ".py",
      "mimetype": "text/x-python",
      "name": "python",
      "nbconvert_exporter": "python",
      "pygments_lexer": "ipython3",
      "version": "3.8.5"
    }
  },
  "nbformat": 4,
  "nbformat_minor": 0
}
