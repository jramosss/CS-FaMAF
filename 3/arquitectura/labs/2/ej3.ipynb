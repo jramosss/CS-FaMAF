{
  "cells": [
    {
      "cell_type": "code",
      "execution_count": 1,
      "metadata": {
        "id": "W2HBsCyfNpvY"
      },
      "outputs": [],
      "source": [
        "#!pip install pyopencl\n",
        "\n",
        "#import sys \n",
        "#sys.path.append('/usr/local/lib/python3.6/site-packages')\n",
        "import pyopencl as cl\n",
        "import pyopencl.array as cl_array\n",
        "import numpy as np\n",
        "import matplotlib.pyplot as plt"
      ]
    },
    {
      "cell_type": "markdown",
      "metadata": {
        "id": "ivsh2kTJOqC5"
      },
      "source": [
        "# Input"
      ]
    },
    {
      "cell_type": "code",
      "execution_count": 2,
      "metadata": {
        "id": "BJzetZIOOJva"
      },
      "outputs": [
        {
          "data": {
            "image/png": "[encoded data removed]",
            "text/plain": [
              "<Figure size 432x288 with 1 Axes>"
            ]
          },
          "metadata": {
            "needs_background": "light"
          },
          "output_type": "display_data"
        }
      ],
      "source": [
        "#Definitions of the size of the matrix and the number of iterations to run\n",
        "N = 64\n",
        "K = 1000\n",
        "\n",
        "# Living cells in the initial state.\n",
        "L = [[8,16],[8,17],[9,16],[9,17],[3,2],[18,16],[18,17],[18,18],[19,15],[19,19],\n",
        "     [20,14],[20,20],[21,14],[21,20],[22,17],[23,15],[23,19],[24,16],[24,18],[24,17],\n",
        "     [25,17],[28,16],[28,15],[28,14],[29,16],[29,15],[29,14],[30,17],[30,13], [32,17],[32,13],\n",
        "     [32,18],[32,12],[43,13],[44,13],[43,14],[44,14]]\n",
        "\n",
        "#Generate initial matrix\n",
        "initial_matrix = np.zeros(N*N, dtype=np.float32)\n",
        "for p in L:\n",
        "  initial_matrix[(p[1]*N)+p[0]]= 1\n",
        "\n",
        "\n",
        "\n",
        "#Show the initial matrix. \n",
        "fig, ax = plt.subplots()\n",
        "ax.imshow(np.reshape(initial_matrix,(N,N)), cmap='gray')\n",
        "plt.axis('off')\n",
        "plt.show()"
      ]
    },
    {
      "cell_type": "markdown",
      "metadata": {
        "id": "_L19ReiwOn-V"
      },
      "source": [
        "# Output"
      ]
    },
    {
      "cell_type": "code",
      "execution_count": null,
      "metadata": {
        "id": "1T1JTF0wOnoi"
      },
      "outputs": [],
      "source": []
    }
  ],
  "metadata": {
    "colab": {
      "name": "Ejercicio3.ipynb",
      "provenance": []
    },
    "interpreter": {
      "hash": "eb3fc94aa1c0c8b6823bedf9890fa0600518a150e3f4f8d5ed34538b6bc0640c"
    },
    "kernelspec": {
      "display_name": "Python 3.8.5 64-bit ('.venv': venv)",
      "name": "python3"
    },
    "language_info": {
      "codemirror_mode": {
        "name": "ipython",
        "version": 3
      },
      "file_extension": ".py",
      "mimetype": "text/x-python",
      "name": "python",
      "nbconvert_exporter": "python",
      "pygments_lexer": "ipython3",
      "version": "3.8.5"
    }
  },
  "nbformat": 4,
  "nbformat_minor": 0
}
