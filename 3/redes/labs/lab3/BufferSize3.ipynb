{
 "metadata": {
  "language_info": {
   "codemirror_mode": {
    "name": "ipython",
    "version": 3
   },
   "file_extension": ".py",
   "mimetype": "text/x-python",
   "name": "python",
   "nbconvert_exporter": "python",
   "pygments_lexer": "ipython3",
   "version": "3.8.5"
  },
  "orig_nbformat": 2,
  "kernelspec": {
   "name": "python385jvsc74a57bd031f2aee4e71d21fbe5cf8b01ff0e069b9275f58929596ceb00d14d90e3e16cd6",
   "display_name": "Python 3.8.5 64-bit"
  },
  "metadata": {
   "interpreter": {
    "hash": "31f2aee4e71d21fbe5cf8b01ff0e069b9275f58929596ceb00d14d90e3e16cd6"
   }
  }
 },
 "nbformat": 4,
 "nbformat_minor": 2,
 "cells": [
  {
   "cell_type": "code",
   "execution_count": 4,
   "metadata": {},
   "outputs": [
    {
     "output_type": "error",
     "ename": "ModuleNotFoundError",
     "evalue": "No module named 'pandas'",
     "traceback": [
      "\u001b[0;31m---------------------------------------------------------------------------\u001b[0m",
      "\u001b[0;31mModuleNotFoundError\u001b[0m                       Traceback (most recent call last)",
      "\u001b[0;32m<ipython-input-4-c90530a3484e>\u001b[0m in \u001b[0;36m<module>\u001b[0;34m\u001b[0m\n\u001b[1;32m      1\u001b[0m \u001b[0;32mimport\u001b[0m \u001b[0mmatplotlib\u001b[0m\u001b[0;34m.\u001b[0m\u001b[0mpyplot\u001b[0m \u001b[0;32mas\u001b[0m \u001b[0mplt\u001b[0m\u001b[0;34m\u001b[0m\u001b[0;34m\u001b[0m\u001b[0m\n\u001b[0;32m----> 2\u001b[0;31m \u001b[0;32mfrom\u001b[0m \u001b[0mpandas\u001b[0m \u001b[0;32mimport\u001b[0m \u001b[0mread_csv\u001b[0m\u001b[0;34m\u001b[0m\u001b[0;34m\u001b[0m\u001b[0m\n\u001b[0m\u001b[1;32m      3\u001b[0m \u001b[0;32mfrom\u001b[0m \u001b[0mseaborn\u001b[0m \u001b[0;32mimport\u001b[0m \u001b[0mset_context\u001b[0m\u001b[0;34m\u001b[0m\u001b[0;34m\u001b[0m\u001b[0m\n\u001b[1;32m      4\u001b[0m \u001b[0;32mfrom\u001b[0m \u001b[0mgoogle\u001b[0m\u001b[0;34m.\u001b[0m\u001b[0mcolab\u001b[0m \u001b[0;32mimport\u001b[0m \u001b[0mfiles\u001b[0m\u001b[0;34m\u001b[0m\u001b[0;34m\u001b[0m\u001b[0m\n\u001b[1;32m      5\u001b[0m \u001b[0;32mfrom\u001b[0m \u001b[0mos\u001b[0m \u001b[0;32mimport\u001b[0m \u001b[0mlistdir\u001b[0m\u001b[0;34m\u001b[0m\u001b[0;34m\u001b[0m\u001b[0m\n",
      "\u001b[0;31mModuleNotFoundError\u001b[0m: No module named 'pandas'"
     ]
    }
   ],
   "source": [
    "import matplotlib.pyplot as plt\n",
    "from pandas import read_csv\n",
    "from seaborn import set_context\n",
    "from google.colab import files\n",
    "from os import listdir\n",
    "\n",
    "set_context(context='talk', font_scale=1.2)\n",
    "\n",
    "DIR = 'simulaciones/v2/'\n",
    "FILES = listdir(DIR)\n",
    "\n",
    "for file in FILES:\n",
    "    filename = DIR + file\n",
    "\n",
    "    data = read_csv(filename)\n",
    "    #print(data)\n",
    "\n",
    "    sent_col   = 0\n",
    "    rcv_col    = 0\n",
    "\n",
    "    for i in range(0,len(data['module'])):\n",
    "        if data['name'][i] == 'sentMsgsTx':\n",
    "            sent_col = i\n",
    "        elif data['name'][i] == 'receivedMsgsRx':\n",
    "            rcv_col = i\n",
    "\n",
    "    def get_vectime (col):\n",
    "        return (data['vectime'][col]).split(' ')\n",
    "\n",
    "    def get_vecvalue (col):\n",
    "        return (data['vecvalue'][col]).split(' ')\n",
    "\n",
    "\n",
    "    sent_vt = get_vectime(sent_col)\n",
    "    sent_vv = get_vecvalue(sent_col)\n",
    "\n",
    "    rcv_vt = get_vectime(rcv_col)\n",
    "    rcv_vv = get_vecvalue(rcv_col)\n",
    "\n",
    "    sent_vt  = list(map(float,sent_vt))\n",
    "    sent_vv  = list(map(int,sent_vv))\n",
    "    rcv_vt   = list(map(float,rcv_vt))\n",
    "    rcv_vv   = list(map(int,rcv_vv))\n",
    "\n",
    "    print(filename)\n",
    "    plt.plot(sent_vt,sent_vv,color='tab:blue',label='Sent')\n",
    "    plt.plot(rcv_vt,rcv_vv,color='tab:red',label='Rcvd')\n",
    "\n",
    "    plt.xlabel('Tiempo (s)')\n",
    "    plt.ylabel('Paquetes en buffer(p)')\n",
    "    plt.title('Tamaño de buffers\\n genInt: ' + filename.replace('v12-genint','').replace('v22-genint','').replace('.csv',''))\n",
    "    plt.legend()\n",
    "\n",
    "    plt.show()"
   ]
  },
  {
   "cell_type": "code",
   "execution_count": null,
   "metadata": {},
   "outputs": [],
   "source": []
  }
 ]
}